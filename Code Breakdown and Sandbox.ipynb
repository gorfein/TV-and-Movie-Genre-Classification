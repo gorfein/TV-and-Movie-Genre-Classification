{
 "cells": [
  {
   "cell_type": "markdown",
   "metadata": {},
   "source": [
    "# Predicting the Primary Genre Of Movies/TV-Shows using Plot Text\n",
    "\n",
    "Everyone loves binge-watching their favorite Movies and TV Shows. Nowadays, movies can pull elements from multiple genres (e.g., action, adventure, comedy, etc.) through complex themes intertwined within a single plot. For example, a movie can be primarily an action movie while also containing undercurrents of romance and comedy (for example, Thor: Ragnarok, Thor: Love and Thunder). The majority of online platforms (e.g., IMDB, rotten tomatoes, etc.) that maintain movie/tv-shows details include all genres BUT do not specifically mention a \"primary genre.\" We seek to tackle this problem today by using machine learning to classify any movie/tv-show with a single, primary genre that best represents the title's plot.\n",
    "\n",
    "Highlighting a movie's primary genre can have many commercial applications, including improved content recommendation and increased precision in understanding various actors' performance and affinities per particular genres (and consequently, across niche fan bases).\n",
    "\n",
    "As stated, we will use **machine learning** to **predict the primary genre** of movies/tv-shows. The majority of movies have a plot mentioned in a few lines of text that can be utilized for predicting target genres. This will be a **multi-label classification task** as we'll be predicting multiple genres per movie based on plot text. A simple **Logistic Regression** model was trained for this task. The dataset used for training the model is publicly available **CMU Movie Summary Corpus** dataset. The text of the plot is encoded using the **TF-IDF** text encoding method. The dataset was divided into train (90%) and test (10%) subsets. The evaluation metric used for performance evaluation was **F1-score**, which was **0.436** for test datasets which is quite a good score as we are able to recover the majority of genres. The model outputs probabilities for each genre, and we choose the genre with the highest probability as the \"primary genre\" of the particular movie/tv-show. The process's total code is present as a single class which can be run by simply initiating and calling the run() method."
   ]
  },
  {
   "cell_type": "code",
   "execution_count": 1,
   "metadata": {},
   "outputs": [],
   "source": [
    "import pandas as pd\n",
    "import numpy as np\n",
    "import json\n",
    "import nltk\n",
    "import re\n",
    "import csv\n",
    "import gzip\n",
    "import matplotlib.pyplot as plt \n",
    "import seaborn as sns\n",
    "from tqdm import tqdm\n",
    "from sklearn.feature_extraction.text import TfidfVectorizer\n",
    "from sklearn.model_selection import train_test_split\n",
    "import warnings\n",
    "warnings.filterwarnings('ignore')\n",
    "\n",
    "%matplotlib inline"
   ]
  },
  {
   "cell_type": "markdown",
   "metadata": {},
   "source": [
    "## Prepare Data"
   ]
  },
  {
   "cell_type": "markdown",
   "metadata": {},
   "source": [
    "### Movie ID to Genre Mapping"
   ]
  },
  {
   "cell_type": "code",
   "execution_count": 2,
   "metadata": {},
   "outputs": [
    {
     "data": {
      "text/html": [
       "<div>\n",
       "<style scoped>\n",
       "    .dataframe tbody tr th:only-of-type {\n",
       "        vertical-align: middle;\n",
       "    }\n",
       "\n",
       "    .dataframe tbody tr th {\n",
       "        vertical-align: top;\n",
       "    }\n",
       "\n",
       "    .dataframe thead th {\n",
       "        text-align: right;\n",
       "    }\n",
       "</style>\n",
       "<table border=\"1\" class=\"dataframe\">\n",
       "  <thead>\n",
       "    <tr style=\"text-align: right;\">\n",
       "      <th></th>\n",
       "      <th>movie_id</th>\n",
       "      <th>1</th>\n",
       "      <th>movie_name</th>\n",
       "      <th>3</th>\n",
       "      <th>4</th>\n",
       "      <th>5</th>\n",
       "      <th>6</th>\n",
       "      <th>7</th>\n",
       "      <th>genre</th>\n",
       "    </tr>\n",
       "  </thead>\n",
       "  <tbody>\n",
       "    <tr>\n",
       "      <th>0</th>\n",
       "      <td>975900</td>\n",
       "      <td>/m/03vyhn</td>\n",
       "      <td>Ghosts of Mars</td>\n",
       "      <td>2001-08-24</td>\n",
       "      <td>14010832.0</td>\n",
       "      <td>98.0</td>\n",
       "      <td>{\"/m/02h40lc\": \"English Language\"}</td>\n",
       "      <td>{\"/m/09c7w0\": \"United States of America\"}</td>\n",
       "      <td>{\"/m/01jfsb\": \"Thriller\", \"/m/06n90\": \"Science...</td>\n",
       "    </tr>\n",
       "    <tr>\n",
       "      <th>1</th>\n",
       "      <td>3196793</td>\n",
       "      <td>/m/08yl5d</td>\n",
       "      <td>Getting Away with Murder: The JonBenét Ramsey ...</td>\n",
       "      <td>2000-02-16</td>\n",
       "      <td>NaN</td>\n",
       "      <td>95.0</td>\n",
       "      <td>{\"/m/02h40lc\": \"English Language\"}</td>\n",
       "      <td>{\"/m/09c7w0\": \"United States of America\"}</td>\n",
       "      <td>{\"/m/02n4kr\": \"Mystery\", \"/m/03bxz7\": \"Biograp...</td>\n",
       "    </tr>\n",
       "    <tr>\n",
       "      <th>2</th>\n",
       "      <td>28463795</td>\n",
       "      <td>/m/0crgdbh</td>\n",
       "      <td>Brun bitter</td>\n",
       "      <td>1988</td>\n",
       "      <td>NaN</td>\n",
       "      <td>83.0</td>\n",
       "      <td>{\"/m/05f_3\": \"Norwegian Language\"}</td>\n",
       "      <td>{\"/m/05b4w\": \"Norway\"}</td>\n",
       "      <td>{\"/m/0lsxr\": \"Crime Fiction\", \"/m/07s9rl0\": \"D...</td>\n",
       "    </tr>\n",
       "    <tr>\n",
       "      <th>3</th>\n",
       "      <td>9363483</td>\n",
       "      <td>/m/0285_cd</td>\n",
       "      <td>White Of The Eye</td>\n",
       "      <td>1987</td>\n",
       "      <td>NaN</td>\n",
       "      <td>110.0</td>\n",
       "      <td>{\"/m/02h40lc\": \"English Language\"}</td>\n",
       "      <td>{\"/m/07ssc\": \"United Kingdom\"}</td>\n",
       "      <td>{\"/m/01jfsb\": \"Thriller\", \"/m/0glj9q\": \"Erotic...</td>\n",
       "    </tr>\n",
       "    <tr>\n",
       "      <th>4</th>\n",
       "      <td>261236</td>\n",
       "      <td>/m/01mrr1</td>\n",
       "      <td>A Woman in Flames</td>\n",
       "      <td>1983</td>\n",
       "      <td>NaN</td>\n",
       "      <td>106.0</td>\n",
       "      <td>{\"/m/04306rv\": \"German Language\"}</td>\n",
       "      <td>{\"/m/0345h\": \"Germany\"}</td>\n",
       "      <td>{\"/m/07s9rl0\": \"Drama\"}</td>\n",
       "    </tr>\n",
       "  </tbody>\n",
       "</table>\n",
       "</div>"
      ],
      "text/plain": [
       "   movie_id           1                                         movie_name  \\\n",
       "0    975900   /m/03vyhn                                     Ghosts of Mars   \n",
       "1   3196793   /m/08yl5d  Getting Away with Murder: The JonBenét Ramsey ...   \n",
       "2  28463795  /m/0crgdbh                                        Brun bitter   \n",
       "3   9363483  /m/0285_cd                                   White Of The Eye   \n",
       "4    261236   /m/01mrr1                                  A Woman in Flames   \n",
       "\n",
       "            3           4      5                                   6  \\\n",
       "0  2001-08-24  14010832.0   98.0  {\"/m/02h40lc\": \"English Language\"}   \n",
       "1  2000-02-16         NaN   95.0  {\"/m/02h40lc\": \"English Language\"}   \n",
       "2        1988         NaN   83.0  {\"/m/05f_3\": \"Norwegian Language\"}   \n",
       "3        1987         NaN  110.0  {\"/m/02h40lc\": \"English Language\"}   \n",
       "4        1983         NaN  106.0   {\"/m/04306rv\": \"German Language\"}   \n",
       "\n",
       "                                           7  \\\n",
       "0  {\"/m/09c7w0\": \"United States of America\"}   \n",
       "1  {\"/m/09c7w0\": \"United States of America\"}   \n",
       "2                     {\"/m/05b4w\": \"Norway\"}   \n",
       "3             {\"/m/07ssc\": \"United Kingdom\"}   \n",
       "4                    {\"/m/0345h\": \"Germany\"}   \n",
       "\n",
       "                                               genre  \n",
       "0  {\"/m/01jfsb\": \"Thriller\", \"/m/06n90\": \"Science...  \n",
       "1  {\"/m/02n4kr\": \"Mystery\", \"/m/03bxz7\": \"Biograp...  \n",
       "2  {\"/m/0lsxr\": \"Crime Fiction\", \"/m/07s9rl0\": \"D...  \n",
       "3  {\"/m/01jfsb\": \"Thriller\", \"/m/0glj9q\": \"Erotic...  \n",
       "4                            {\"/m/07s9rl0\": \"Drama\"}  "
      ]
     },
     "execution_count": 2,
     "metadata": {},
     "output_type": "execute_result"
    }
   ],
   "source": [
    "meta = pd.read_csv(\"MovieSummaries/movie.metadata.tsv\", sep = '\\t', header = None)\n",
    "meta.columns = [\"movie_id\",1,\"movie_name\",3,4,5,6,7,\"genre\"]\n",
    "meta['movie_id'] = meta['movie_id'].astype(str)\n",
    "meta.head()"
   ]
  },
  {
   "cell_type": "markdown",
   "metadata": {},
   "source": [
    "### Loading Movie Plots"
   ]
  },
  {
   "cell_type": "code",
   "execution_count": 3,
   "metadata": {},
   "outputs": [
    {
     "name": "stderr",
     "output_type": "stream",
     "text": [
      "42303it [00:00, 46527.89it/s]\n"
     ]
    }
   ],
   "source": [
    "plots = []\n",
    "\n",
    "with gzip.open(\"MovieSummaries/plot_summaries.txt\", 'rt', encoding = 'UTF-8') as f:\n",
    "    reader = csv.reader(f, dialect='excel-tab') \n",
    "    for row in tqdm(reader):\n",
    "        plots.append(row)"
   ]
  },
  {
   "cell_type": "code",
   "execution_count": 4,
   "metadata": {},
   "outputs": [
    {
     "name": "stderr",
     "output_type": "stream",
     "text": [
      "100%|███████████████████████████████████████████████████████████████████████| 42303/42303 [00:00<00:00, 1626321.19it/s]\n"
     ]
    },
    {
     "data": {
      "text/html": [
       "<div>\n",
       "<style scoped>\n",
       "    .dataframe tbody tr th:only-of-type {\n",
       "        vertical-align: middle;\n",
       "    }\n",
       "\n",
       "    .dataframe tbody tr th {\n",
       "        vertical-align: top;\n",
       "    }\n",
       "\n",
       "    .dataframe thead th {\n",
       "        text-align: right;\n",
       "    }\n",
       "</style>\n",
       "<table border=\"1\" class=\"dataframe\">\n",
       "  <thead>\n",
       "    <tr style=\"text-align: right;\">\n",
       "      <th></th>\n",
       "      <th>movie_id</th>\n",
       "      <th>plot</th>\n",
       "    </tr>\n",
       "  </thead>\n",
       "  <tbody>\n",
       "    <tr>\n",
       "      <th>0</th>\n",
       "      <td>23890098</td>\n",
       "      <td>Shlykov, a hard-working taxi driver and Lyosha...</td>\n",
       "    </tr>\n",
       "    <tr>\n",
       "      <th>1</th>\n",
       "      <td>31186339</td>\n",
       "      <td>The nation of Panem consists of a wealthy Capi...</td>\n",
       "    </tr>\n",
       "    <tr>\n",
       "      <th>2</th>\n",
       "      <td>20663735</td>\n",
       "      <td>Poovalli Induchoodan  is sentenced for six yea...</td>\n",
       "    </tr>\n",
       "    <tr>\n",
       "      <th>3</th>\n",
       "      <td>2231378</td>\n",
       "      <td>The Lemon Drop Kid , a New York City swindler,...</td>\n",
       "    </tr>\n",
       "    <tr>\n",
       "      <th>4</th>\n",
       "      <td>595909</td>\n",
       "      <td>Seventh-day Adventist Church pastor Michael Ch...</td>\n",
       "    </tr>\n",
       "  </tbody>\n",
       "</table>\n",
       "</div>"
      ],
      "text/plain": [
       "   movie_id                                               plot\n",
       "0  23890098  Shlykov, a hard-working taxi driver and Lyosha...\n",
       "1  31186339  The nation of Panem consists of a wealthy Capi...\n",
       "2  20663735  Poovalli Induchoodan  is sentenced for six yea...\n",
       "3   2231378  The Lemon Drop Kid , a New York City swindler,...\n",
       "4    595909  Seventh-day Adventist Church pastor Michael Ch..."
      ]
     },
     "execution_count": 4,
     "metadata": {},
     "output_type": "execute_result"
    }
   ],
   "source": [
    "movie_id = []\n",
    "plot = []\n",
    "\n",
    "# extract movie Ids and plot summaries\n",
    "for i in tqdm(plots):\n",
    "    movie_id.append(i[0])\n",
    "    plot.append(i[1])\n",
    "\n",
    "# create dataframe\n",
    "movies = pd.DataFrame({'movie_id': movie_id, 'plot': plot})\n",
    "\n",
    "movies.head()"
   ]
  },
  {
   "cell_type": "markdown",
   "metadata": {},
   "source": [
    "### Merging Movie Plots and Genres"
   ]
  },
  {
   "cell_type": "code",
   "execution_count": 5,
   "metadata": {},
   "outputs": [
    {
     "data": {
      "text/html": [
       "<div>\n",
       "<style scoped>\n",
       "    .dataframe tbody tr th:only-of-type {\n",
       "        vertical-align: middle;\n",
       "    }\n",
       "\n",
       "    .dataframe tbody tr th {\n",
       "        vertical-align: top;\n",
       "    }\n",
       "\n",
       "    .dataframe thead th {\n",
       "        text-align: right;\n",
       "    }\n",
       "</style>\n",
       "<table border=\"1\" class=\"dataframe\">\n",
       "  <thead>\n",
       "    <tr style=\"text-align: right;\">\n",
       "      <th></th>\n",
       "      <th>movie_id</th>\n",
       "      <th>plot</th>\n",
       "      <th>movie_name</th>\n",
       "      <th>genre</th>\n",
       "    </tr>\n",
       "  </thead>\n",
       "  <tbody>\n",
       "    <tr>\n",
       "      <th>0</th>\n",
       "      <td>23890098</td>\n",
       "      <td>Shlykov, a hard-working taxi driver and Lyosha...</td>\n",
       "      <td>Taxi Blues</td>\n",
       "      <td>{\"/m/07s9rl0\": \"Drama\", \"/m/03q4nz\": \"World ci...</td>\n",
       "    </tr>\n",
       "    <tr>\n",
       "      <th>1</th>\n",
       "      <td>31186339</td>\n",
       "      <td>The nation of Panem consists of a wealthy Capi...</td>\n",
       "      <td>The Hunger Games</td>\n",
       "      <td>{\"/m/03btsm8\": \"Action/Adventure\", \"/m/06n90\":...</td>\n",
       "    </tr>\n",
       "    <tr>\n",
       "      <th>2</th>\n",
       "      <td>20663735</td>\n",
       "      <td>Poovalli Induchoodan  is sentenced for six yea...</td>\n",
       "      <td>Narasimham</td>\n",
       "      <td>{\"/m/04t36\": \"Musical\", \"/m/02kdv5l\": \"Action\"...</td>\n",
       "    </tr>\n",
       "    <tr>\n",
       "      <th>3</th>\n",
       "      <td>2231378</td>\n",
       "      <td>The Lemon Drop Kid , a New York City swindler,...</td>\n",
       "      <td>The Lemon Drop Kid</td>\n",
       "      <td>{\"/m/06qm3\": \"Screwball comedy\", \"/m/01z4y\": \"...</td>\n",
       "    </tr>\n",
       "    <tr>\n",
       "      <th>4</th>\n",
       "      <td>595909</td>\n",
       "      <td>Seventh-day Adventist Church pastor Michael Ch...</td>\n",
       "      <td>A Cry in the Dark</td>\n",
       "      <td>{\"/m/0lsxr\": \"Crime Fiction\", \"/m/07s9rl0\": \"D...</td>\n",
       "    </tr>\n",
       "  </tbody>\n",
       "</table>\n",
       "</div>"
      ],
      "text/plain": [
       "   movie_id                                               plot  \\\n",
       "0  23890098  Shlykov, a hard-working taxi driver and Lyosha...   \n",
       "1  31186339  The nation of Panem consists of a wealthy Capi...   \n",
       "2  20663735  Poovalli Induchoodan  is sentenced for six yea...   \n",
       "3   2231378  The Lemon Drop Kid , a New York City swindler,...   \n",
       "4    595909  Seventh-day Adventist Church pastor Michael Ch...   \n",
       "\n",
       "           movie_name                                              genre  \n",
       "0          Taxi Blues  {\"/m/07s9rl0\": \"Drama\", \"/m/03q4nz\": \"World ci...  \n",
       "1    The Hunger Games  {\"/m/03btsm8\": \"Action/Adventure\", \"/m/06n90\":...  \n",
       "2          Narasimham  {\"/m/04t36\": \"Musical\", \"/m/02kdv5l\": \"Action\"...  \n",
       "3  The Lemon Drop Kid  {\"/m/06qm3\": \"Screwball comedy\", \"/m/01z4y\": \"...  \n",
       "4   A Cry in the Dark  {\"/m/0lsxr\": \"Crime Fiction\", \"/m/07s9rl0\": \"D...  "
      ]
     },
     "execution_count": 5,
     "metadata": {},
     "output_type": "execute_result"
    }
   ],
   "source": [
    "movies = pd.merge(movies, meta[['movie_id', 'movie_name', 'genre']], on = 'movie_id')\n",
    "\n",
    "movies.head()"
   ]
  },
  {
   "cell_type": "markdown",
   "metadata": {},
   "source": [
    "### Existing Genres Of Title"
   ]
  },
  {
   "cell_type": "code",
   "execution_count": 6,
   "metadata": {},
   "outputs": [
    {
     "name": "stdout",
     "output_type": "stream",
     "text": [
      "Existing Genres : (49947, 2)\n"
     ]
    },
    {
     "data": {
      "text/html": [
       "<div>\n",
       "<style scoped>\n",
       "    .dataframe tbody tr th:only-of-type {\n",
       "        vertical-align: middle;\n",
       "    }\n",
       "\n",
       "    .dataframe tbody tr th {\n",
       "        vertical-align: top;\n",
       "    }\n",
       "\n",
       "    .dataframe thead th {\n",
       "        text-align: right;\n",
       "    }\n",
       "</style>\n",
       "<table border=\"1\" class=\"dataframe\">\n",
       "  <thead>\n",
       "    <tr style=\"text-align: right;\">\n",
       "      <th></th>\n",
       "      <th>imdb_id</th>\n",
       "      <th>genre</th>\n",
       "    </tr>\n",
       "  </thead>\n",
       "  <tbody>\n",
       "    <tr>\n",
       "      <th>0</th>\n",
       "      <td>tt0000004</td>\n",
       "      <td>[Animation]</td>\n",
       "    </tr>\n",
       "    <tr>\n",
       "      <th>1</th>\n",
       "      <td>tt0000007</td>\n",
       "      <td>[Documentary]</td>\n",
       "    </tr>\n",
       "    <tr>\n",
       "      <th>2</th>\n",
       "      <td>tt0000008</td>\n",
       "      <td>[Documentary]</td>\n",
       "    </tr>\n",
       "    <tr>\n",
       "      <th>3</th>\n",
       "      <td>tt0000246</td>\n",
       "      <td>[Comedy]</td>\n",
       "    </tr>\n",
       "    <tr>\n",
       "      <th>4</th>\n",
       "      <td>tt0000417</td>\n",
       "      <td>[Adventure, Fantasy, Science Fiction]</td>\n",
       "    </tr>\n",
       "  </tbody>\n",
       "</table>\n",
       "</div>"
      ],
      "text/plain": [
       "     imdb_id                                  genre\n",
       "0  tt0000004                            [Animation]\n",
       "1  tt0000007                          [Documentary]\n",
       "2  tt0000008                          [Documentary]\n",
       "3  tt0000246                               [Comedy]\n",
       "4  tt0000417  [Adventure, Fantasy, Science Fiction]"
      ]
     },
     "execution_count": 6,
     "metadata": {},
     "output_type": "execute_result"
    }
   ],
   "source": [
    "existing_peerlogix_genres = pd.read_csv(\"peerlogix_genres.csv\")\n",
    "\n",
    "existing_peerlogix_genres = existing_peerlogix_genres.groupby(\"imdb_id\").aggregate(lambda x: list(x)).reset_index()\n",
    "\n",
    "print(\"Existing Genres : {}\".format(existing_peerlogix_genres.shape))\n",
    "\n",
    "existing_peerlogix_genres.head()"
   ]
  },
  {
   "cell_type": "code",
   "execution_count": 7,
   "metadata": {},
   "outputs": [],
   "source": [
    "existing_peerlogix_genres = dict(zip(existing_peerlogix_genres[\"imdb_id\"].values.tolist(), existing_peerlogix_genres[\"genre\"].values.tolist()))"
   ]
  },
  {
   "cell_type": "code",
   "execution_count": 8,
   "metadata": {},
   "outputs": [
    {
     "data": {
      "text/plain": [
       "[('tt0000004', ['Animation']),\n",
       " ('tt0000007', ['Documentary']),\n",
       " ('tt0000008', ['Documentary']),\n",
       " ('tt0000246', ['Comedy']),\n",
       " ('tt0000417', ['Adventure', 'Fantasy', 'Science Fiction'])]"
      ]
     },
     "execution_count": 8,
     "metadata": {},
     "output_type": "execute_result"
    }
   ],
   "source": [
    "list(existing_peerlogix_genres.items())[:5]"
   ]
  },
  {
   "cell_type": "markdown",
   "metadata": {},
   "source": [
    "### Cleaning Genre Data"
   ]
  },
  {
   "cell_type": "code",
   "execution_count": 9,
   "metadata": {},
   "outputs": [
    {
     "data": {
      "text/html": [
       "<div>\n",
       "<style scoped>\n",
       "    .dataframe tbody tr th:only-of-type {\n",
       "        vertical-align: middle;\n",
       "    }\n",
       "\n",
       "    .dataframe tbody tr th {\n",
       "        vertical-align: top;\n",
       "    }\n",
       "\n",
       "    .dataframe thead th {\n",
       "        text-align: right;\n",
       "    }\n",
       "</style>\n",
       "<table border=\"1\" class=\"dataframe\">\n",
       "  <thead>\n",
       "    <tr style=\"text-align: right;\">\n",
       "      <th></th>\n",
       "      <th>movie_id</th>\n",
       "      <th>plot</th>\n",
       "      <th>movie_name</th>\n",
       "      <th>genre</th>\n",
       "      <th>genre_new</th>\n",
       "    </tr>\n",
       "  </thead>\n",
       "  <tbody>\n",
       "    <tr>\n",
       "      <th>0</th>\n",
       "      <td>23890098</td>\n",
       "      <td>Shlykov, a hard-working taxi driver and Lyosha...</td>\n",
       "      <td>Taxi Blues</td>\n",
       "      <td>{\"/m/07s9rl0\": \"Drama\", \"/m/03q4nz\": \"World ci...</td>\n",
       "      <td>[Drama]</td>\n",
       "    </tr>\n",
       "    <tr>\n",
       "      <th>1</th>\n",
       "      <td>31186339</td>\n",
       "      <td>The nation of Panem consists of a wealthy Capi...</td>\n",
       "      <td>The Hunger Games</td>\n",
       "      <td>{\"/m/03btsm8\": \"Action/Adventure\", \"/m/06n90\":...</td>\n",
       "      <td>[Action &amp; Adventure, Science Fiction, Action, ...</td>\n",
       "    </tr>\n",
       "    <tr>\n",
       "      <th>2</th>\n",
       "      <td>20663735</td>\n",
       "      <td>Poovalli Induchoodan  is sentenced for six yea...</td>\n",
       "      <td>Narasimham</td>\n",
       "      <td>{\"/m/04t36\": \"Musical\", \"/m/02kdv5l\": \"Action\"...</td>\n",
       "      <td>[Musical, Action, Drama]</td>\n",
       "    </tr>\n",
       "    <tr>\n",
       "      <th>3</th>\n",
       "      <td>2231378</td>\n",
       "      <td>The Lemon Drop Kid , a New York City swindler,...</td>\n",
       "      <td>The Lemon Drop Kid</td>\n",
       "      <td>{\"/m/06qm3\": \"Screwball comedy\", \"/m/01z4y\": \"...</td>\n",
       "      <td>[Comedy]</td>\n",
       "    </tr>\n",
       "    <tr>\n",
       "      <th>4</th>\n",
       "      <td>595909</td>\n",
       "      <td>Seventh-day Adventist Church pastor Michael Ch...</td>\n",
       "      <td>A Cry in the Dark</td>\n",
       "      <td>{\"/m/0lsxr\": \"Crime Fiction\", \"/m/07s9rl0\": \"D...</td>\n",
       "      <td>[Crime, Drama]</td>\n",
       "    </tr>\n",
       "  </tbody>\n",
       "</table>\n",
       "</div>"
      ],
      "text/plain": [
       "   movie_id                                               plot  \\\n",
       "0  23890098  Shlykov, a hard-working taxi driver and Lyosha...   \n",
       "1  31186339  The nation of Panem consists of a wealthy Capi...   \n",
       "2  20663735  Poovalli Induchoodan  is sentenced for six yea...   \n",
       "3   2231378  The Lemon Drop Kid , a New York City swindler,...   \n",
       "4    595909  Seventh-day Adventist Church pastor Michael Ch...   \n",
       "\n",
       "           movie_name                                              genre  \\\n",
       "0          Taxi Blues  {\"/m/07s9rl0\": \"Drama\", \"/m/03q4nz\": \"World ci...   \n",
       "1    The Hunger Games  {\"/m/03btsm8\": \"Action/Adventure\", \"/m/06n90\":...   \n",
       "2          Narasimham  {\"/m/04t36\": \"Musical\", \"/m/02kdv5l\": \"Action\"...   \n",
       "3  The Lemon Drop Kid  {\"/m/06qm3\": \"Screwball comedy\", \"/m/01z4y\": \"...   \n",
       "4   A Cry in the Dark  {\"/m/0lsxr\": \"Crime Fiction\", \"/m/07s9rl0\": \"D...   \n",
       "\n",
       "                                           genre_new  \n",
       "0                                            [Drama]  \n",
       "1  [Action & Adventure, Science Fiction, Action, ...  \n",
       "2                           [Musical, Action, Drama]  \n",
       "3                                           [Comedy]  \n",
       "4                                     [Crime, Drama]  "
      ]
     },
     "execution_count": 9,
     "metadata": {},
     "output_type": "execute_result"
    }
   ],
   "source": [
    "valid_genres = [\n",
    "            'Action', 'Action & Adventure', 'Adventure', 'Animation', 'Comedy', 'Crime', 'Documentary',\n",
    "            'Drama', 'Family', 'Fantasy', 'Horror', 'Musical', 'Mystery', 'Romance', 'Science Fiction',\n",
    "            'Thriller', 'War', ]\n",
    "\n",
    "valid_genres = pd.read_csv(\"peerlogix_genres.csv\").genre.unique().tolist() ## This one has around 8-10 more unique labels\n",
    "\n",
    "genre_corrections = {\n",
    "                    'Action/Adventure' : 'Action & Adventure',\n",
    "                    'Crime Fiction' : 'Crime',\n",
    "                    'Family Film' : 'Family',\n",
    "                    'Romance Film' : 'Romance',\n",
    "                    'War Film' : 'War',\n",
    "                    'Comedy Film' : 'Comedy'\n",
    "                    }\n",
    "\n",
    "only_peerlogix_valid_genres, genres = True, [] \n",
    "\n",
    "for i in movies['genre']: \n",
    "    movie_genres = list(json.loads(i).values())\n",
    "    \n",
    "    movie_genres = [genre_corrections.get(genre, genre) for genre in movie_genres] ## Genre Correction in Data\n",
    "    \n",
    "    if only_peerlogix_valid_genres: ## Keep only peerlgix valid genres\n",
    "        movie_genres = [genre for genre in movie_genres if genre in valid_genres]\n",
    "        \n",
    "    genres.append(movie_genres) \n",
    "\n",
    "movies['genre_new'] = genres\n",
    "\n",
    "movies.head()"
   ]
  },
  {
   "cell_type": "markdown",
   "metadata": {},
   "source": [
    "### Cleaning Plot Data"
   ]
  },
  {
   "cell_type": "code",
   "execution_count": 10,
   "metadata": {},
   "outputs": [
    {
     "data": {
      "text/html": [
       "<div>\n",
       "<style scoped>\n",
       "    .dataframe tbody tr th:only-of-type {\n",
       "        vertical-align: middle;\n",
       "    }\n",
       "\n",
       "    .dataframe tbody tr th {\n",
       "        vertical-align: top;\n",
       "    }\n",
       "\n",
       "    .dataframe thead th {\n",
       "        text-align: right;\n",
       "    }\n",
       "</style>\n",
       "<table border=\"1\" class=\"dataframe\">\n",
       "  <thead>\n",
       "    <tr style=\"text-align: right;\">\n",
       "      <th></th>\n",
       "      <th>movie_id</th>\n",
       "      <th>plot</th>\n",
       "      <th>movie_name</th>\n",
       "      <th>genre</th>\n",
       "      <th>genre_new</th>\n",
       "      <th>clean_plot</th>\n",
       "    </tr>\n",
       "  </thead>\n",
       "  <tbody>\n",
       "    <tr>\n",
       "      <th>0</th>\n",
       "      <td>23890098</td>\n",
       "      <td>Shlykov, a hard-working taxi driver and Lyosha...</td>\n",
       "      <td>Taxi Blues</td>\n",
       "      <td>{\"/m/07s9rl0\": \"Drama\", \"/m/03q4nz\": \"World ci...</td>\n",
       "      <td>[Drama]</td>\n",
       "      <td>shlykov a hard working taxi driver and lyosha ...</td>\n",
       "    </tr>\n",
       "    <tr>\n",
       "      <th>1</th>\n",
       "      <td>31186339</td>\n",
       "      <td>The nation of Panem consists of a wealthy Capi...</td>\n",
       "      <td>The Hunger Games</td>\n",
       "      <td>{\"/m/03btsm8\": \"Action/Adventure\", \"/m/06n90\":...</td>\n",
       "      <td>[Action &amp; Adventure, Science Fiction, Action, ...</td>\n",
       "      <td>the nation of panem consists of a wealthy capi...</td>\n",
       "    </tr>\n",
       "    <tr>\n",
       "      <th>2</th>\n",
       "      <td>20663735</td>\n",
       "      <td>Poovalli Induchoodan  is sentenced for six yea...</td>\n",
       "      <td>Narasimham</td>\n",
       "      <td>{\"/m/04t36\": \"Musical\", \"/m/02kdv5l\": \"Action\"...</td>\n",
       "      <td>[Musical, Action, Drama]</td>\n",
       "      <td>poovalli induchoodan is sentenced for six year...</td>\n",
       "    </tr>\n",
       "    <tr>\n",
       "      <th>3</th>\n",
       "      <td>2231378</td>\n",
       "      <td>The Lemon Drop Kid , a New York City swindler,...</td>\n",
       "      <td>The Lemon Drop Kid</td>\n",
       "      <td>{\"/m/06qm3\": \"Screwball comedy\", \"/m/01z4y\": \"...</td>\n",
       "      <td>[Comedy]</td>\n",
       "      <td>the lemon drop kid a new york city swindler is...</td>\n",
       "    </tr>\n",
       "    <tr>\n",
       "      <th>4</th>\n",
       "      <td>595909</td>\n",
       "      <td>Seventh-day Adventist Church pastor Michael Ch...</td>\n",
       "      <td>A Cry in the Dark</td>\n",
       "      <td>{\"/m/0lsxr\": \"Crime Fiction\", \"/m/07s9rl0\": \"D...</td>\n",
       "      <td>[Crime, Drama]</td>\n",
       "      <td>seventh day adventist church pastor michael ch...</td>\n",
       "    </tr>\n",
       "  </tbody>\n",
       "</table>\n",
       "</div>"
      ],
      "text/plain": [
       "   movie_id                                               plot  \\\n",
       "0  23890098  Shlykov, a hard-working taxi driver and Lyosha...   \n",
       "1  31186339  The nation of Panem consists of a wealthy Capi...   \n",
       "2  20663735  Poovalli Induchoodan  is sentenced for six yea...   \n",
       "3   2231378  The Lemon Drop Kid , a New York City swindler,...   \n",
       "4    595909  Seventh-day Adventist Church pastor Michael Ch...   \n",
       "\n",
       "           movie_name                                              genre  \\\n",
       "0          Taxi Blues  {\"/m/07s9rl0\": \"Drama\", \"/m/03q4nz\": \"World ci...   \n",
       "1    The Hunger Games  {\"/m/03btsm8\": \"Action/Adventure\", \"/m/06n90\":...   \n",
       "2          Narasimham  {\"/m/04t36\": \"Musical\", \"/m/02kdv5l\": \"Action\"...   \n",
       "3  The Lemon Drop Kid  {\"/m/06qm3\": \"Screwball comedy\", \"/m/01z4y\": \"...   \n",
       "4   A Cry in the Dark  {\"/m/0lsxr\": \"Crime Fiction\", \"/m/07s9rl0\": \"D...   \n",
       "\n",
       "                                           genre_new  \\\n",
       "0                                            [Drama]   \n",
       "1  [Action & Adventure, Science Fiction, Action, ...   \n",
       "2                           [Musical, Action, Drama]   \n",
       "3                                           [Comedy]   \n",
       "4                                     [Crime, Drama]   \n",
       "\n",
       "                                          clean_plot  \n",
       "0  shlykov a hard working taxi driver and lyosha ...  \n",
       "1  the nation of panem consists of a wealthy capi...  \n",
       "2  poovalli induchoodan is sentenced for six year...  \n",
       "3  the lemon drop kid a new york city swindler is...  \n",
       "4  seventh day adventist church pastor michael ch...  "
      ]
     },
     "execution_count": 10,
     "metadata": {},
     "output_type": "execute_result"
    }
   ],
   "source": [
    "movies['clean_plot'] = movies['plot'].apply(lambda x: \" \".join(re.findall(\"[a-zA-Z]+\", x.lower())))\n",
    "\n",
    "movies.head()"
   ]
  },
  {
   "cell_type": "markdown",
   "metadata": {},
   "source": [
    "## Create and Train Model"
   ]
  },
  {
   "cell_type": "markdown",
   "metadata": {},
   "source": [
    "### Create Multi-Labels"
   ]
  },
  {
   "cell_type": "code",
   "execution_count": 11,
   "metadata": {},
   "outputs": [
    {
     "data": {
      "text/plain": [
       "(42204, 20)"
      ]
     },
     "execution_count": 11,
     "metadata": {},
     "output_type": "execute_result"
    }
   ],
   "source": [
    "from sklearn.preprocessing import MultiLabelBinarizer\n",
    "\n",
    "multilabel_binarizer = MultiLabelBinarizer()\n",
    "multilabel_binarizer.fit(movies['genre_new'])\n",
    "\n",
    "# transform target variable\n",
    "Y = multilabel_binarizer.transform(movies['genre_new'])\n",
    "\n",
    "Y.shape"
   ]
  },
  {
   "cell_type": "markdown",
   "metadata": {},
   "source": [
    "### Define Vectorizer"
   ]
  },
  {
   "cell_type": "code",
   "execution_count": 12,
   "metadata": {},
   "outputs": [],
   "source": [
    "tfidf_vectorizer = TfidfVectorizer(max_df=0.8, stop_words=\"english\", max_features=50000)"
   ]
  },
  {
   "cell_type": "markdown",
   "metadata": {},
   "source": [
    "### Split Data into Train/Test"
   ]
  },
  {
   "cell_type": "code",
   "execution_count": 13,
   "metadata": {},
   "outputs": [],
   "source": [
    "X_train, X_test, Y_train, Y_test = train_test_split(movies['clean_plot'], Y, test_size=0.1, random_state=123)"
   ]
  },
  {
   "cell_type": "markdown",
   "metadata": {},
   "source": [
    "### Vectorize Data"
   ]
  },
  {
   "cell_type": "code",
   "execution_count": 14,
   "metadata": {},
   "outputs": [
    {
     "data": {
      "text/plain": [
       "((37983, 50000), (4221, 50000))"
      ]
     },
     "execution_count": 14,
     "metadata": {},
     "output_type": "execute_result"
    }
   ],
   "source": [
    "X_train_tfidf = tfidf_vectorizer.fit_transform(X_train)\n",
    "X_test_tfidf = tfidf_vectorizer.transform(X_test)\n",
    "\n",
    "X_train_tfidf.shape, X_test_tfidf.shape"
   ]
  },
  {
   "cell_type": "markdown",
   "metadata": {},
   "source": [
    "### Train Classifier"
   ]
  },
  {
   "cell_type": "code",
   "execution_count": 15,
   "metadata": {},
   "outputs": [
    {
     "name": "stdout",
     "output_type": "stream",
     "text": [
      "Wall time: 20.6 s\n"
     ]
    },
    {
     "data": {
      "text/plain": [
       "OneVsRestClassifier(estimator=LogisticRegression())"
      ]
     },
     "execution_count": 15,
     "metadata": {},
     "output_type": "execute_result"
    }
   ],
   "source": [
    "%%time\n",
    "\n",
    "from sklearn.linear_model import LogisticRegression\n",
    "from sklearn.ensemble import RandomForestClassifier, GradientBoostingClassifier\n",
    "from sklearn.multiclass import OneVsRestClassifier\n",
    "from sklearn.multioutput import MultiOutputClassifier\n",
    "from sklearn.metrics import f1_score\n",
    "\n",
    "lr = LogisticRegression()\n",
    "clf1 = OneVsRestClassifier(lr)\n",
    "\n",
    "clf1.fit(X_train_tfidf, Y_train)"
   ]
  },
  {
   "cell_type": "code",
   "execution_count": 16,
   "metadata": {},
   "outputs": [],
   "source": [
    "Y_test_pred1 = clf1.predict(X_test_tfidf)"
   ]
  },
  {
   "cell_type": "code",
   "execution_count": 17,
   "metadata": {},
   "outputs": [
    {
     "data": {
      "text/plain": [
       "0.4363823051253529"
      ]
     },
     "execution_count": 17,
     "metadata": {},
     "output_type": "execute_result"
    }
   ],
   "source": [
    "f1_score(Y_test, Y_test_pred1, average=\"micro\")"
   ]
  },
  {
   "cell_type": "markdown",
   "metadata": {},
   "source": [
    "### Create Prediction Function"
   ]
  },
  {
   "cell_type": "code",
   "execution_count": 18,
   "metadata": {},
   "outputs": [],
   "source": [
    "def make_prediction(text, threshold = 0.0):\n",
    "    if isinstance(text, str):\n",
    "        cleaned_text = \" \".join(re.findall(\"[a-zA-Z]+\", text.lower()))\n",
    "        X = tfidf_vectorizer.transform([cleaned_text])\n",
    "        probs = clf1.predict_proba(X) ## Probabilities/ liklihood\n",
    "        \n",
    "        # Isolate highest probable genre\n",
    "        primary_genre_idx = probs.argsort()[0][-1] ## Taking highest probability/liklihood\n",
    "        idx2, idx3, idx4, idx5 = probs.argsort()[0][-2], probs.argsort()[0][-3], probs.argsort()[0][-4], probs.argsort()[0][-5]\n",
    "        \n",
    "        # Discard results if none were above threshold \n",
    "        if probs[0][primary_genre_idx] < threshold:\n",
    "            return [\"NA\", ] * 5\n",
    "        \n",
    "        # Else, return top genre\n",
    "        primary_genre = multilabel_binarizer.classes_[primary_genre_idx] \n",
    "        genre2, genre3, genre4, genre5 = multilabel_binarizer.classes_[idx2], multilabel_binarizer.classes_[idx3], multilabel_binarizer.classes_[idx4], multilabel_binarizer.classes_[idx5]\n",
    "        \n",
    "        primary_genre = genre_corrections.get(primary_genre, primary_genre)\n",
    "        genre2, genre3, genre4, genre5 = genre_corrections.get(genre2, genre2), genre_corrections.get(genre3, genre3), genre_corrections.get(genre4, genre4), genre_corrections.get(genre5, genre5)\n",
    "        return primary_genre, genre2, genre3, genre4, genre5\n",
    "    else:\n",
    "        return [\"NA\", ] * 5"
   ]
  },
  {
   "cell_type": "code",
   "execution_count": 19,
   "metadata": {},
   "outputs": [
    {
     "data": {
      "text/plain": [
       "('Drama', 'Comedy', 'Romance', 'Action', 'Action & Adventure')"
      ]
     },
     "execution_count": 19,
     "metadata": {},
     "output_type": "execute_result"
    }
   ],
   "source": [
    "make_prediction(\"the nation of panem consists of a wealthy capitalists\")"
   ]
  },
  {
   "cell_type": "code",
   "execution_count": 20,
   "metadata": {},
   "outputs": [
    {
     "data": {
      "text/plain": [
       "['NA', 'NA', 'NA', 'NA', 'NA']"
      ]
     },
     "execution_count": 20,
     "metadata": {},
     "output_type": "execute_result"
    }
   ],
   "source": [
    "make_prediction(\"the nation of panem consists of a wealthy capitalists\", threshold=0.3)"
   ]
  },
  {
   "cell_type": "code",
   "execution_count": 21,
   "metadata": {},
   "outputs": [
    {
     "data": {
      "text/plain": [
       "('Drama', 'Comedy', 'Romance', 'Action', 'Action & Adventure')"
      ]
     },
     "execution_count": 21,
     "metadata": {},
     "output_type": "execute_result"
    }
   ],
   "source": [
    "make_prediction(\"the nation of panem consists of a wealthy capitalists\", threshold=0.29)"
   ]
  },
  {
   "cell_type": "markdown",
   "metadata": {},
   "source": [
    "### Predicting Primary Genre for PeerLogix Dataset (original function)"
   ]
  },
  {
   "cell_type": "code",
   "execution_count": 22,
   "metadata": {},
   "outputs": [
    {
     "data": {
      "text/html": [
       "<div>\n",
       "<style scoped>\n",
       "    .dataframe tbody tr th:only-of-type {\n",
       "        vertical-align: middle;\n",
       "    }\n",
       "\n",
       "    .dataframe tbody tr th {\n",
       "        vertical-align: top;\n",
       "    }\n",
       "\n",
       "    .dataframe thead th {\n",
       "        text-align: right;\n",
       "    }\n",
       "</style>\n",
       "<table border=\"1\" class=\"dataframe\">\n",
       "  <thead>\n",
       "    <tr style=\"text-align: right;\">\n",
       "      <th></th>\n",
       "      <th>imdb_id</th>\n",
       "      <th>poster_url</th>\n",
       "      <th>trailer_url</th>\n",
       "      <th>release_year</th>\n",
       "      <th>description</th>\n",
       "      <th>imdb_score</th>\n",
       "      <th>rating</th>\n",
       "      <th>genres</th>\n",
       "    </tr>\n",
       "  </thead>\n",
       "  <tbody>\n",
       "    <tr>\n",
       "      <th>0</th>\n",
       "      <td>tt0068817</td>\n",
       "      <td>https://m.media-amazon.com/images/M/MV5BYzk2Mj...</td>\n",
       "      <td>-VBLDluFlnQ</td>\n",
       "      <td>1972</td>\n",
       "      <td>Ogami Itto volunteers to be tortured by the ya...</td>\n",
       "      <td>7.5</td>\n",
       "      <td>R</td>\n",
       "      <td>['Drama', 'Action']</td>\n",
       "    </tr>\n",
       "    <tr>\n",
       "      <th>1</th>\n",
       "      <td>tt0069047</td>\n",
       "      <td>https://m.media-amazon.com/images/M/MV5BODM3MD...</td>\n",
       "      <td>iquHLv-Usrg</td>\n",
       "      <td>1973</td>\n",
       "      <td>A busload of tourists stops in to visit a smal...</td>\n",
       "      <td>4.8</td>\n",
       "      <td>R</td>\n",
       "      <td>['Horror']</td>\n",
       "    </tr>\n",
       "    <tr>\n",
       "      <th>2</th>\n",
       "      <td>tt0385990</td>\n",
       "      <td>https://m.media-amazon.com/images/M/MV5BZTZkYT...</td>\n",
       "      <td>1JusFfwHSgM</td>\n",
       "      <td>2004</td>\n",
       "      <td>Two time travelers with opposing views are sen...</td>\n",
       "      <td>3.1</td>\n",
       "      <td>R</td>\n",
       "      <td>['Action', 'Science Fiction']</td>\n",
       "    </tr>\n",
       "    <tr>\n",
       "      <th>3</th>\n",
       "      <td>tt1686768</td>\n",
       "      <td>https://m.media-amazon.com/images/M/MV5BODM1MD...</td>\n",
       "      <td>tSIbHII-N44</td>\n",
       "      <td>2011</td>\n",
       "      <td>An English teacher brings soccer from England ...</td>\n",
       "      <td>6.8</td>\n",
       "      <td>NaN</td>\n",
       "      <td>['Drama']</td>\n",
       "    </tr>\n",
       "    <tr>\n",
       "      <th>4</th>\n",
       "      <td>tt2655470</td>\n",
       "      <td>https://m.media-amazon.com/images/M/MV5BMjE5Nz...</td>\n",
       "      <td>l7PKbUab0Xs</td>\n",
       "      <td>2013–2014</td>\n",
       "      <td>Centers on Terry Gannon, a recently divorced s...</td>\n",
       "      <td>6.4</td>\n",
       "      <td>NaN</td>\n",
       "      <td>['Comedy', 'Family']</td>\n",
       "    </tr>\n",
       "  </tbody>\n",
       "</table>\n",
       "</div>"
      ],
      "text/plain": [
       "     imdb_id                                         poster_url  trailer_url  \\\n",
       "0  tt0068817  https://m.media-amazon.com/images/M/MV5BYzk2Mj...  -VBLDluFlnQ   \n",
       "1  tt0069047  https://m.media-amazon.com/images/M/MV5BODM3MD...  iquHLv-Usrg   \n",
       "2  tt0385990  https://m.media-amazon.com/images/M/MV5BZTZkYT...  1JusFfwHSgM   \n",
       "3  tt1686768  https://m.media-amazon.com/images/M/MV5BODM1MD...  tSIbHII-N44   \n",
       "4  tt2655470  https://m.media-amazon.com/images/M/MV5BMjE5Nz...  l7PKbUab0Xs   \n",
       "\n",
       "  release_year                                        description  imdb_score  \\\n",
       "0         1972  Ogami Itto volunteers to be tortured by the ya...         7.5   \n",
       "1         1973  A busload of tourists stops in to visit a smal...         4.8   \n",
       "2         2004  Two time travelers with opposing views are sen...         3.1   \n",
       "3         2011  An English teacher brings soccer from England ...         6.8   \n",
       "4    2013–2014  Centers on Terry Gannon, a recently divorced s...         6.4   \n",
       "\n",
       "  rating                         genres  \n",
       "0      R            ['Drama', 'Action']  \n",
       "1      R                     ['Horror']  \n",
       "2      R  ['Action', 'Science Fiction']  \n",
       "3    NaN                      ['Drama']  \n",
       "4    NaN           ['Comedy', 'Family']  "
      ]
     },
     "execution_count": 22,
     "metadata": {},
     "output_type": "execute_result"
    }
   ],
   "source": [
    "peerlogix = pd.read_csv(\"PeerLogix Titles (IMDb Metadata).csv\")\n",
    "\n",
    "peerlogix.head()"
   ]
  },
  {
   "cell_type": "code",
   "execution_count": 23,
   "metadata": {
    "scrolled": true
   },
   "outputs": [
    {
     "name": "stdout",
     "output_type": "stream",
     "text": [
      "1000 iteration completed\n",
      "2000 iteration completed\n",
      "3000 iteration completed\n",
      "4000 iteration completed\n",
      "5000 iteration completed\n",
      "6000 iteration completed\n",
      "7000 iteration completed\n",
      "8000 iteration completed\n",
      "9000 iteration completed\n",
      "10000 iteration completed\n",
      "11000 iteration completed\n",
      "12000 iteration completed\n",
      "13000 iteration completed\n",
      "14000 iteration completed\n",
      "15000 iteration completed\n",
      "16000 iteration completed\n",
      "17000 iteration completed\n",
      "18000 iteration completed\n",
      "19000 iteration completed\n",
      "20000 iteration completed\n",
      "21000 iteration completed\n",
      "22000 iteration completed\n",
      "23000 iteration completed\n",
      "24000 iteration completed\n",
      "25000 iteration completed\n",
      "26000 iteration completed\n",
      "27000 iteration completed\n",
      "28000 iteration completed\n",
      "29000 iteration completed\n",
      "30000 iteration completed\n",
      "31000 iteration completed\n",
      "32000 iteration completed\n",
      "33000 iteration completed\n",
      "34000 iteration completed\n",
      "35000 iteration completed\n",
      "36000 iteration completed\n",
      "37000 iteration completed\n",
      "38000 iteration completed\n",
      "39000 iteration completed\n",
      "40000 iteration completed\n",
      "41000 iteration completed\n",
      "42000 iteration completed\n",
      "43000 iteration completed\n",
      "44000 iteration completed\n",
      "45000 iteration completed\n",
      "46000 iteration completed\n",
      "47000 iteration completed\n",
      "48000 iteration completed\n",
      "49000 iteration completed\n",
      "50000 iteration completed\n"
     ]
    }
   ],
   "source": [
    "primary_genre = []\n",
    "\n",
    "for i, (imdb_id, plot) in enumerate(peerlogix[[\"imdb_id\",\"description\"]].values):\n",
    "    existing_genres = existing_peerlogix_genres.get(imdb_id, []) ## Retrieve Existing Genres for id\n",
    "    predicted_genres = make_prediction(plot) ## Make Prediction on Plot\n",
    "    \n",
    "    if existing_genres: ## If Genres present for IMDB ID then choose from it else append predicted one.\n",
    "        if len(existing_genres) == 1: ## If single Genre then it'll be primary Genre\n",
    "            primary_genre.append(existing_genres[0])\n",
    "        else:\n",
    "            selected_genre = None\n",
    "            for genre in predicted_genres: ### Check for predicted Genre in existing Genres\n",
    "                if genre in existing_genres:\n",
    "                    selected_genre = genre\n",
    "                    break    \n",
    "            primary_genre.append(selected_genre if selected_genre else \"NA\") \n",
    "            \n",
    "    else:\n",
    "        primary_genre.append(predicted_genres[0]) ## Append first one which is primary\n",
    "    \n",
    "    if (i+1)%1000 == 0:\n",
    "        print(\"{} iteration completed\".format(i+1))"
   ]
  },
  {
   "cell_type": "code",
   "execution_count": 24,
   "metadata": {},
   "outputs": [],
   "source": [
    "#peerlogix[\"Primary_Genre1\"] = peerlogix[\"description\"].apply(make_prediction)\n",
    "peerlogix[\"Primary_Genre1\"] = primary_genre"
   ]
  },
  {
   "cell_type": "code",
   "execution_count": 25,
   "metadata": {},
   "outputs": [
    {
     "data": {
      "text/html": [
       "<div>\n",
       "<style scoped>\n",
       "    .dataframe tbody tr th:only-of-type {\n",
       "        vertical-align: middle;\n",
       "    }\n",
       "\n",
       "    .dataframe tbody tr th {\n",
       "        vertical-align: top;\n",
       "    }\n",
       "\n",
       "    .dataframe thead th {\n",
       "        text-align: right;\n",
       "    }\n",
       "</style>\n",
       "<table border=\"1\" class=\"dataframe\">\n",
       "  <thead>\n",
       "    <tr style=\"text-align: right;\">\n",
       "      <th></th>\n",
       "      <th>imdb_id</th>\n",
       "      <th>poster_url</th>\n",
       "      <th>trailer_url</th>\n",
       "      <th>release_year</th>\n",
       "      <th>description</th>\n",
       "      <th>imdb_score</th>\n",
       "      <th>rating</th>\n",
       "      <th>genres</th>\n",
       "      <th>Primary_Genre1</th>\n",
       "    </tr>\n",
       "  </thead>\n",
       "  <tbody>\n",
       "    <tr>\n",
       "      <th>0</th>\n",
       "      <td>tt0068817</td>\n",
       "      <td>https://m.media-amazon.com/images/M/MV5BYzk2Mj...</td>\n",
       "      <td>-VBLDluFlnQ</td>\n",
       "      <td>1972</td>\n",
       "      <td>Ogami Itto volunteers to be tortured by the ya...</td>\n",
       "      <td>7.5</td>\n",
       "      <td>R</td>\n",
       "      <td>['Drama', 'Action']</td>\n",
       "      <td>Action</td>\n",
       "    </tr>\n",
       "    <tr>\n",
       "      <th>1</th>\n",
       "      <td>tt0069047</td>\n",
       "      <td>https://m.media-amazon.com/images/M/MV5BODM3MD...</td>\n",
       "      <td>iquHLv-Usrg</td>\n",
       "      <td>1973</td>\n",
       "      <td>A busload of tourists stops in to visit a smal...</td>\n",
       "      <td>4.8</td>\n",
       "      <td>R</td>\n",
       "      <td>['Horror']</td>\n",
       "      <td>Horror</td>\n",
       "    </tr>\n",
       "    <tr>\n",
       "      <th>2</th>\n",
       "      <td>tt0385990</td>\n",
       "      <td>https://m.media-amazon.com/images/M/MV5BZTZkYT...</td>\n",
       "      <td>1JusFfwHSgM</td>\n",
       "      <td>2004</td>\n",
       "      <td>Two time travelers with opposing views are sen...</td>\n",
       "      <td>3.1</td>\n",
       "      <td>R</td>\n",
       "      <td>['Action', 'Science Fiction']</td>\n",
       "      <td>Science Fiction</td>\n",
       "    </tr>\n",
       "    <tr>\n",
       "      <th>3</th>\n",
       "      <td>tt1686768</td>\n",
       "      <td>https://m.media-amazon.com/images/M/MV5BODM1MD...</td>\n",
       "      <td>tSIbHII-N44</td>\n",
       "      <td>2011</td>\n",
       "      <td>An English teacher brings soccer from England ...</td>\n",
       "      <td>6.8</td>\n",
       "      <td>NaN</td>\n",
       "      <td>['Drama']</td>\n",
       "      <td>Drama</td>\n",
       "    </tr>\n",
       "    <tr>\n",
       "      <th>4</th>\n",
       "      <td>tt2655470</td>\n",
       "      <td>https://m.media-amazon.com/images/M/MV5BMjE5Nz...</td>\n",
       "      <td>l7PKbUab0Xs</td>\n",
       "      <td>2013–2014</td>\n",
       "      <td>Centers on Terry Gannon, a recently divorced s...</td>\n",
       "      <td>6.4</td>\n",
       "      <td>NaN</td>\n",
       "      <td>['Comedy', 'Family']</td>\n",
       "      <td>Comedy</td>\n",
       "    </tr>\n",
       "  </tbody>\n",
       "</table>\n",
       "</div>"
      ],
      "text/plain": [
       "     imdb_id                                         poster_url  trailer_url  \\\n",
       "0  tt0068817  https://m.media-amazon.com/images/M/MV5BYzk2Mj...  -VBLDluFlnQ   \n",
       "1  tt0069047  https://m.media-amazon.com/images/M/MV5BODM3MD...  iquHLv-Usrg   \n",
       "2  tt0385990  https://m.media-amazon.com/images/M/MV5BZTZkYT...  1JusFfwHSgM   \n",
       "3  tt1686768  https://m.media-amazon.com/images/M/MV5BODM1MD...  tSIbHII-N44   \n",
       "4  tt2655470  https://m.media-amazon.com/images/M/MV5BMjE5Nz...  l7PKbUab0Xs   \n",
       "\n",
       "  release_year                                        description  imdb_score  \\\n",
       "0         1972  Ogami Itto volunteers to be tortured by the ya...         7.5   \n",
       "1         1973  A busload of tourists stops in to visit a smal...         4.8   \n",
       "2         2004  Two time travelers with opposing views are sen...         3.1   \n",
       "3         2011  An English teacher brings soccer from England ...         6.8   \n",
       "4    2013–2014  Centers on Terry Gannon, a recently divorced s...         6.4   \n",
       "\n",
       "  rating                         genres   Primary_Genre1  \n",
       "0      R            ['Drama', 'Action']           Action  \n",
       "1      R                     ['Horror']           Horror  \n",
       "2      R  ['Action', 'Science Fiction']  Science Fiction  \n",
       "3    NaN                      ['Drama']            Drama  \n",
       "4    NaN           ['Comedy', 'Family']           Comedy  "
      ]
     },
     "execution_count": 25,
     "metadata": {},
     "output_type": "execute_result"
    }
   ],
   "source": [
    "peerlogix.head()"
   ]
  },
  {
   "cell_type": "code",
   "execution_count": 26,
   "metadata": {},
   "outputs": [],
   "source": [
    "peerlogix.to_csv(\"Peerlogix_with_Genre.csv\")"
   ]
  },
  {
   "cell_type": "code",
   "execution_count": 27,
   "metadata": {},
   "outputs": [
    {
     "data": {
      "text/plain": [
       "Counter({'Action': 2924,\n",
       "         'Horror': 3341,\n",
       "         'Science Fiction': 1096,\n",
       "         'Drama': 18857,\n",
       "         'Comedy': 8654,\n",
       "         'Thriller': 3076,\n",
       "         'NA': 1868,\n",
       "         'Documentary': 3417,\n",
       "         'Romance': 1539,\n",
       "         'Animation': 771,\n",
       "         'Crime': 1348,\n",
       "         'Family': 746,\n",
       "         'Mystery': 285,\n",
       "         'Western': 402,\n",
       "         'Reality': 743,\n",
       "         'Adventure': 819,\n",
       "         'Action & Adventure': 206,\n",
       "         'Talk': 47,\n",
       "         'Fantasy': 366,\n",
       "         'War': 41,\n",
       "         'News': 18,\n",
       "         'Sci-Fi & Fantasy': 65,\n",
       "         'Kids': 12,\n",
       "         'Music': 85,\n",
       "         'War & Politics': 6,\n",
       "         'History': 17,\n",
       "         'Soap': 13,\n",
       "         'TV Movie': 4,\n",
       "         'Musical': 4})"
      ]
     },
     "execution_count": 27,
     "metadata": {},
     "output_type": "execute_result"
    }
   ],
   "source": [
    "from collections import Counter\n",
    "\n",
    "Counter(peerlogix.Primary_Genre1)"
   ]
  },
  {
   "cell_type": "code",
   "execution_count": null,
   "metadata": {},
   "outputs": [],
   "source": []
  },
  {
   "cell_type": "code",
   "execution_count": null,
   "metadata": {},
   "outputs": [],
   "source": []
  },
  {
   "cell_type": "code",
   "execution_count": null,
   "metadata": {},
   "outputs": [],
   "source": []
  }
 ],
 "metadata": {
  "kernelspec": {
   "display_name": "Python 3",
   "language": "python",
   "name": "python3"
  },
  "language_info": {
   "codemirror_mode": {
    "name": "ipython",
    "version": 3
   },
   "file_extension": ".py",
   "mimetype": "text/x-python",
   "name": "python",
   "nbconvert_exporter": "python",
   "pygments_lexer": "ipython3",
   "version": "3.8.3"
  }
 },
 "nbformat": 4,
 "nbformat_minor": 2
}
